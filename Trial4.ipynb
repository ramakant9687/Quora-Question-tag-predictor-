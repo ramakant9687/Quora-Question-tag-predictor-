{
 "cells": [
  {
   "cell_type": "code",
   "execution_count": 1,
   "metadata": {},
   "outputs": [],
   "source": [
    "import pandas as pd\n",
    "import matplotlib.pyplot as plt\n",
    "import re\n",
    "import warnings\n",
    "import sqlite3\n",
    "from sqlalchemy import create_engine\n",
    "import csv\n",
    "import os\n",
    "warnings.filterwarnings('ignore')\n"
   ]
  },
  {
   "cell_type": "code",
   "execution_count": 2,
   "metadata": {},
   "outputs": [
    {
     "name": "stdout",
     "output_type": "stream",
     "text": [
      "221\n"
     ]
    }
   ],
   "source": [
    "print(len(['Unnamed: 0','id','is_duplicate','cwc_min','cwc_max','csc_min','csc_max','ctc_min','ctc_max','last_word_eq','first_word_eq','abs_len_diff','mean_len','token_set_ratio','token_sort_ratio','fuzz_ratio','fuzz_partial_ratio','longest_substr_ratio','freq_qid1','freq_qid2','q1len','q2len','q1_n_words','q2_n_words','word_Common','word_Total','word_share','freq_q1+q2','freq_q1-q2','0_x','1_x','2_x','3_x','4_x','5_x','6_x','7_x','8_x','9_x','10_x','11_x','12_x','13_x','14_x','15_x','16_x','17_x','18_x','19_x','20_x','21_x','22_x','23_x','24_x','25_x','26_x','27_x','28_x','29_x','30_x','31_x','32_x','33_x','34_x','35_x','36_x','37_x','38_x','39_x','40_x','41_x','42_x','43_x','44_x','45_x','46_x','47_x','48_x','49_x','50_x','51_x','52_x','53_x','54_x','55_x','56_x','57_x','58_x','59_x','60_x','61_x','62_x','63_x','64_x','65_x','66_x','67_x','68_x','69_x','70_x','71_x','72_x','73_x','74_x','75_x','76_x','77_x','78_x','79_x','80_x','81_x','82_x','83_x','84_x','85_x','86_x','87_x','88_x','89_x','90_x','91_x','92_x','93_x','94_x','95_x','0_y','1_y','2_y','3_y','4_y','5_y','6_y','7_y','8_y','9_y','10_y','11_y','12_y','13_y','14_y','15_y','16_y','17_y','18_y','19_y','20_y','21_y','22_y','23_y','24_y','25_y','26_y','27_y','28_y','29_y','30_y','31_y','32_y','33_y','34_y','35_y','36_y','37_y','38_y','39_y','40_y','41_y','42_y','43_y','44_y','45_y','46_y','47_y','48_y','49_y','50_y','51_y','52_y','53_y','54_y','55_y','56_y','57_y','58_y','59_y','60_y','61_y','62_y','63_y','64_y','65_y','66_y','67_y','68_y','69_y','70_y','71_y','72_y','73_y','74_y','75_y','76_y','77_y','78_y','79_y','80_y','81_y','82_y','83_y','84_y','85_y','86_y','87_y','88_y','89_y','90_y','91_y','92_y','93_y','94_y','95_y']))"
   ]
  },
  {
   "cell_type": "code",
   "execution_count": 3,
   "metadata": {},
   "outputs": [],
   "source": [
    "data=pd.read_csv('final_features.csv')"
   ]
  },
  {
   "cell_type": "code",
   "execution_count": 4,
   "metadata": {},
   "outputs": [
    {
     "data": {
      "text/html": [
       "<div>\n",
       "<style scoped>\n",
       "    .dataframe tbody tr th:only-of-type {\n",
       "        vertical-align: middle;\n",
       "    }\n",
       "\n",
       "    .dataframe tbody tr th {\n",
       "        vertical-align: top;\n",
       "    }\n",
       "\n",
       "    .dataframe thead th {\n",
       "        text-align: right;\n",
       "    }\n",
       "</style>\n",
       "<table border=\"1\" class=\"dataframe\">\n",
       "  <thead>\n",
       "    <tr style=\"text-align: right;\">\n",
       "      <th></th>\n",
       "      <th>Unnamed: 0</th>\n",
       "      <th>id</th>\n",
       "      <th>is_duplicate</th>\n",
       "      <th>cwc_min</th>\n",
       "      <th>cwc_max</th>\n",
       "      <th>csc_min</th>\n",
       "      <th>csc_max</th>\n",
       "      <th>ctc_min</th>\n",
       "      <th>ctc_max</th>\n",
       "      <th>last_word_eq</th>\n",
       "      <th>...</th>\n",
       "      <th>86_y</th>\n",
       "      <th>87_y</th>\n",
       "      <th>88_y</th>\n",
       "      <th>89_y</th>\n",
       "      <th>90_y</th>\n",
       "      <th>91_y</th>\n",
       "      <th>92_y</th>\n",
       "      <th>93_y</th>\n",
       "      <th>94_y</th>\n",
       "      <th>95_y</th>\n",
       "    </tr>\n",
       "  </thead>\n",
       "  <tbody>\n",
       "    <tr>\n",
       "      <td>0</td>\n",
       "      <td>0</td>\n",
       "      <td>0</td>\n",
       "      <td>0</td>\n",
       "      <td>0.999980</td>\n",
       "      <td>0.833319</td>\n",
       "      <td>0.999983</td>\n",
       "      <td>0.999983</td>\n",
       "      <td>0.916659</td>\n",
       "      <td>0.785709</td>\n",
       "      <td>0.0</td>\n",
       "      <td>...</td>\n",
       "      <td>-72.266625</td>\n",
       "      <td>-37.072086</td>\n",
       "      <td>-31.142730</td>\n",
       "      <td>94.064854</td>\n",
       "      <td>-45.053242</td>\n",
       "      <td>-34.155221</td>\n",
       "      <td>-76.548099</td>\n",
       "      <td>99.282776</td>\n",
       "      <td>50.791731</td>\n",
       "      <td>-17.566246</td>\n",
       "    </tr>\n",
       "    <tr>\n",
       "      <td>1</td>\n",
       "      <td>1</td>\n",
       "      <td>1</td>\n",
       "      <td>0</td>\n",
       "      <td>0.799984</td>\n",
       "      <td>0.399996</td>\n",
       "      <td>0.749981</td>\n",
       "      <td>0.599988</td>\n",
       "      <td>0.699993</td>\n",
       "      <td>0.466664</td>\n",
       "      <td>0.0</td>\n",
       "      <td>...</td>\n",
       "      <td>6.193171</td>\n",
       "      <td>-65.084229</td>\n",
       "      <td>-15.654534</td>\n",
       "      <td>-3.475828</td>\n",
       "      <td>26.999802</td>\n",
       "      <td>170.172613</td>\n",
       "      <td>-57.038953</td>\n",
       "      <td>194.269546</td>\n",
       "      <td>128.207803</td>\n",
       "      <td>55.490061</td>\n",
       "    </tr>\n",
       "    <tr>\n",
       "      <td>2</td>\n",
       "      <td>2</td>\n",
       "      <td>2</td>\n",
       "      <td>0</td>\n",
       "      <td>0.399992</td>\n",
       "      <td>0.333328</td>\n",
       "      <td>0.399992</td>\n",
       "      <td>0.249997</td>\n",
       "      <td>0.399996</td>\n",
       "      <td>0.285712</td>\n",
       "      <td>0.0</td>\n",
       "      <td>...</td>\n",
       "      <td>-26.185226</td>\n",
       "      <td>-19.283218</td>\n",
       "      <td>75.602438</td>\n",
       "      <td>24.144027</td>\n",
       "      <td>-91.874398</td>\n",
       "      <td>-178.454113</td>\n",
       "      <td>-91.471482</td>\n",
       "      <td>19.922719</td>\n",
       "      <td>21.266690</td>\n",
       "      <td>49.574858</td>\n",
       "    </tr>\n",
       "    <tr>\n",
       "      <td>3</td>\n",
       "      <td>3</td>\n",
       "      <td>3</td>\n",
       "      <td>0</td>\n",
       "      <td>0.000000</td>\n",
       "      <td>0.000000</td>\n",
       "      <td>0.000000</td>\n",
       "      <td>0.000000</td>\n",
       "      <td>0.000000</td>\n",
       "      <td>0.000000</td>\n",
       "      <td>0.0</td>\n",
       "      <td>...</td>\n",
       "      <td>-17.779019</td>\n",
       "      <td>30.152297</td>\n",
       "      <td>49.300137</td>\n",
       "      <td>27.783795</td>\n",
       "      <td>25.937188</td>\n",
       "      <td>-32.107076</td>\n",
       "      <td>-3.817634</td>\n",
       "      <td>-14.231000</td>\n",
       "      <td>4.772115</td>\n",
       "      <td>7.711628</td>\n",
       "    </tr>\n",
       "    <tr>\n",
       "      <td>4</td>\n",
       "      <td>4</td>\n",
       "      <td>4</td>\n",
       "      <td>0</td>\n",
       "      <td>0.399992</td>\n",
       "      <td>0.199998</td>\n",
       "      <td>0.999950</td>\n",
       "      <td>0.666644</td>\n",
       "      <td>0.571420</td>\n",
       "      <td>0.307690</td>\n",
       "      <td>0.0</td>\n",
       "      <td>...</td>\n",
       "      <td>36.089472</td>\n",
       "      <td>47.193216</td>\n",
       "      <td>-49.969586</td>\n",
       "      <td>44.796028</td>\n",
       "      <td>39.740803</td>\n",
       "      <td>-33.763309</td>\n",
       "      <td>-98.282341</td>\n",
       "      <td>22.118795</td>\n",
       "      <td>68.802072</td>\n",
       "      <td>21.025373</td>\n",
       "    </tr>\n",
       "  </tbody>\n",
       "</table>\n",
       "<p>5 rows × 221 columns</p>\n",
       "</div>"
      ],
      "text/plain": [
       "   Unnamed: 0  id  is_duplicate   cwc_min   cwc_max   csc_min   csc_max  \\\n",
       "0           0   0             0  0.999980  0.833319  0.999983  0.999983   \n",
       "1           1   1             0  0.799984  0.399996  0.749981  0.599988   \n",
       "2           2   2             0  0.399992  0.333328  0.399992  0.249997   \n",
       "3           3   3             0  0.000000  0.000000  0.000000  0.000000   \n",
       "4           4   4             0  0.399992  0.199998  0.999950  0.666644   \n",
       "\n",
       "    ctc_min   ctc_max  last_word_eq  ...       86_y       87_y       88_y  \\\n",
       "0  0.916659  0.785709           0.0  ... -72.266625 -37.072086 -31.142730   \n",
       "1  0.699993  0.466664           0.0  ...   6.193171 -65.084229 -15.654534   \n",
       "2  0.399996  0.285712           0.0  ... -26.185226 -19.283218  75.602438   \n",
       "3  0.000000  0.000000           0.0  ... -17.779019  30.152297  49.300137   \n",
       "4  0.571420  0.307690           0.0  ...  36.089472  47.193216 -49.969586   \n",
       "\n",
       "        89_y       90_y        91_y       92_y        93_y        94_y  \\\n",
       "0  94.064854 -45.053242  -34.155221 -76.548099   99.282776   50.791731   \n",
       "1  -3.475828  26.999802  170.172613 -57.038953  194.269546  128.207803   \n",
       "2  24.144027 -91.874398 -178.454113 -91.471482   19.922719   21.266690   \n",
       "3  27.783795  25.937188  -32.107076  -3.817634  -14.231000    4.772115   \n",
       "4  44.796028  39.740803  -33.763309 -98.282341   22.118795   68.802072   \n",
       "\n",
       "        95_y  \n",
       "0 -17.566246  \n",
       "1  55.490061  \n",
       "2  49.574858  \n",
       "3   7.711628  \n",
       "4  21.025373  \n",
       "\n",
       "[5 rows x 221 columns]"
      ]
     },
     "execution_count": 4,
     "metadata": {},
     "output_type": "execute_result"
    }
   ],
   "source": [
    "data.head()"
   ]
  },
  {
   "cell_type": "code",
   "execution_count": 5,
   "metadata": {},
   "outputs": [
    {
     "name": "stdout",
     "output_type": "stream",
     "text": [
      "<class 'pandas.core.frame.DataFrame'>\n",
      "RangeIndex: 404290 entries, 0 to 404289\n",
      "Columns: 221 entries, Unnamed: 0 to 95_y\n",
      "dtypes: float64(206), int64(15)\n",
      "memory usage: 681.7 MB\n"
     ]
    }
   ],
   "source": [
    "data.info()"
   ]
  },
  {
   "cell_type": "code",
   "execution_count": 6,
   "metadata": {},
   "outputs": [
    {
     "data": {
      "text/plain": [
       "pandas.core.indexes.base.Index"
      ]
     },
     "execution_count": 6,
     "metadata": {},
     "output_type": "execute_result"
    }
   ],
   "source": [
    "type(data.columns)"
   ]
  },
  {
   "cell_type": "code",
   "execution_count": 7,
   "metadata": {},
   "outputs": [
    {
     "name": "stdout",
     "output_type": "stream",
     "text": [
      "Unnamed: 0\n",
      "id\n",
      "is_duplicate\n",
      "cwc_min\n",
      "cwc_max\n",
      "csc_min\n",
      "csc_max\n",
      "ctc_min\n",
      "ctc_max\n",
      "last_word_eq\n",
      "first_word_eq\n",
      "abs_len_diff\n",
      "mean_len\n",
      "token_set_ratio\n",
      "token_sort_ratio\n",
      "fuzz_ratio\n",
      "fuzz_partial_ratio\n",
      "longest_substr_ratio\n",
      "freq_qid1\n",
      "freq_qid2\n",
      "q1len\n",
      "q2len\n",
      "q1_n_words\n",
      "q2_n_words\n",
      "word_Common\n",
      "word_Total\n",
      "word_share\n",
      "freq_q1+q2\n",
      "freq_q1-q2\n",
      "0_x\n",
      "1_x\n",
      "2_x\n",
      "3_x\n",
      "4_x\n",
      "5_x\n",
      "6_x\n",
      "7_x\n",
      "8_x\n",
      "9_x\n",
      "10_x\n",
      "11_x\n",
      "12_x\n",
      "13_x\n",
      "14_x\n",
      "15_x\n",
      "16_x\n",
      "17_x\n",
      "18_x\n",
      "19_x\n",
      "20_x\n",
      "21_x\n",
      "22_x\n",
      "23_x\n",
      "24_x\n",
      "25_x\n",
      "26_x\n",
      "27_x\n",
      "28_x\n",
      "29_x\n",
      "30_x\n",
      "31_x\n",
      "32_x\n",
      "33_x\n",
      "34_x\n",
      "35_x\n",
      "36_x\n",
      "37_x\n",
      "38_x\n",
      "39_x\n",
      "40_x\n",
      "41_x\n",
      "42_x\n",
      "43_x\n",
      "44_x\n",
      "45_x\n",
      "46_x\n",
      "47_x\n",
      "48_x\n",
      "49_x\n",
      "50_x\n",
      "51_x\n",
      "52_x\n",
      "53_x\n",
      "54_x\n",
      "55_x\n",
      "56_x\n",
      "57_x\n",
      "58_x\n",
      "59_x\n",
      "60_x\n",
      "61_x\n",
      "62_x\n",
      "63_x\n",
      "64_x\n",
      "65_x\n",
      "66_x\n",
      "67_x\n",
      "68_x\n",
      "69_x\n",
      "70_x\n",
      "71_x\n",
      "72_x\n",
      "73_x\n",
      "74_x\n",
      "75_x\n",
      "76_x\n",
      "77_x\n",
      "78_x\n",
      "79_x\n",
      "80_x\n",
      "81_x\n",
      "82_x\n",
      "83_x\n",
      "84_x\n",
      "85_x\n",
      "86_x\n",
      "87_x\n",
      "88_x\n",
      "89_x\n",
      "90_x\n",
      "91_x\n",
      "92_x\n",
      "93_x\n",
      "94_x\n",
      "95_x\n",
      "0_y\n",
      "1_y\n",
      "2_y\n",
      "3_y\n",
      "4_y\n",
      "5_y\n",
      "6_y\n",
      "7_y\n",
      "8_y\n",
      "9_y\n",
      "10_y\n",
      "11_y\n",
      "12_y\n",
      "13_y\n",
      "14_y\n",
      "15_y\n",
      "16_y\n",
      "17_y\n",
      "18_y\n",
      "19_y\n",
      "20_y\n",
      "21_y\n",
      "22_y\n",
      "23_y\n",
      "24_y\n",
      "25_y\n",
      "26_y\n",
      "27_y\n",
      "28_y\n",
      "29_y\n",
      "30_y\n",
      "31_y\n",
      "32_y\n",
      "33_y\n",
      "34_y\n",
      "35_y\n",
      "36_y\n",
      "37_y\n",
      "38_y\n",
      "39_y\n",
      "40_y\n",
      "41_y\n",
      "42_y\n",
      "43_y\n",
      "44_y\n",
      "45_y\n",
      "46_y\n",
      "47_y\n",
      "48_y\n",
      "49_y\n",
      "50_y\n",
      "51_y\n",
      "52_y\n",
      "53_y\n",
      "54_y\n",
      "55_y\n",
      "56_y\n",
      "57_y\n",
      "58_y\n",
      "59_y\n",
      "60_y\n",
      "61_y\n",
      "62_y\n",
      "63_y\n",
      "64_y\n",
      "65_y\n",
      "66_y\n",
      "67_y\n",
      "68_y\n",
      "69_y\n",
      "70_y\n",
      "71_y\n",
      "72_y\n",
      "73_y\n",
      "74_y\n",
      "75_y\n",
      "76_y\n",
      "77_y\n",
      "78_y\n",
      "79_y\n",
      "80_y\n",
      "81_y\n",
      "82_y\n",
      "83_y\n",
      "84_y\n",
      "85_y\n",
      "86_y\n",
      "87_y\n",
      "88_y\n",
      "89_y\n",
      "90_y\n",
      "91_y\n",
      "92_y\n",
      "93_y\n",
      "94_y\n",
      "95_y\n"
     ]
    }
   ],
   "source": [
    "cols=list(data.columns)\n",
    "for i in cols:\n",
    "    data[i]=data[i].apply(pd.to_numeric)\n",
    "    print(i)"
   ]
  },
  {
   "cell_type": "code",
   "execution_count": 19,
   "metadata": {},
   "outputs": [
    {
     "name": "stdout",
     "output_type": "stream",
     "text": [
      "(404290, 221)\n"
     ]
    }
   ],
   "source": [
    "data.head()\n",
    "print(data.shape)"
   ]
  },
  {
   "cell_type": "code",
   "execution_count": 20,
   "metadata": {},
   "outputs": [
    {
     "name": "stdout",
     "output_type": "stream",
     "text": [
      "(100000, 221)\n"
     ]
    }
   ],
   "source": [
    "sdata=data.iloc[0:100000,]\n",
    "sdata.head()\n",
    "print(sdata.shape)"
   ]
  },
  {
   "cell_type": "code",
   "execution_count": 21,
   "metadata": {},
   "outputs": [
    {
     "data": {
      "text/html": [
       "<div>\n",
       "<style scoped>\n",
       "    .dataframe tbody tr th:only-of-type {\n",
       "        vertical-align: middle;\n",
       "    }\n",
       "\n",
       "    .dataframe tbody tr th {\n",
       "        vertical-align: top;\n",
       "    }\n",
       "\n",
       "    .dataframe thead th {\n",
       "        text-align: right;\n",
       "    }\n",
       "</style>\n",
       "<table border=\"1\" class=\"dataframe\">\n",
       "  <thead>\n",
       "    <tr style=\"text-align: right;\">\n",
       "      <th></th>\n",
       "      <th>cwc_min</th>\n",
       "      <th>cwc_max</th>\n",
       "      <th>csc_min</th>\n",
       "      <th>csc_max</th>\n",
       "      <th>ctc_min</th>\n",
       "      <th>ctc_max</th>\n",
       "      <th>last_word_eq</th>\n",
       "      <th>first_word_eq</th>\n",
       "      <th>abs_len_diff</th>\n",
       "      <th>mean_len</th>\n",
       "      <th>...</th>\n",
       "      <th>86_y</th>\n",
       "      <th>87_y</th>\n",
       "      <th>88_y</th>\n",
       "      <th>89_y</th>\n",
       "      <th>90_y</th>\n",
       "      <th>91_y</th>\n",
       "      <th>92_y</th>\n",
       "      <th>93_y</th>\n",
       "      <th>94_y</th>\n",
       "      <th>95_y</th>\n",
       "    </tr>\n",
       "  </thead>\n",
       "  <tbody>\n",
       "    <tr>\n",
       "      <td>1</td>\n",
       "      <td>0.799984</td>\n",
       "      <td>0.399996</td>\n",
       "      <td>0.749981</td>\n",
       "      <td>0.599988</td>\n",
       "      <td>0.699993</td>\n",
       "      <td>0.466664</td>\n",
       "      <td>0.0</td>\n",
       "      <td>1.0</td>\n",
       "      <td>5.0</td>\n",
       "      <td>12.5</td>\n",
       "      <td>...</td>\n",
       "      <td>6.193171</td>\n",
       "      <td>-65.084229</td>\n",
       "      <td>-15.654534</td>\n",
       "      <td>-3.475828</td>\n",
       "      <td>26.999802</td>\n",
       "      <td>170.172613</td>\n",
       "      <td>-57.038953</td>\n",
       "      <td>194.269546</td>\n",
       "      <td>128.207803</td>\n",
       "      <td>55.490061</td>\n",
       "    </tr>\n",
       "    <tr>\n",
       "      <td>2</td>\n",
       "      <td>0.399992</td>\n",
       "      <td>0.333328</td>\n",
       "      <td>0.399992</td>\n",
       "      <td>0.249997</td>\n",
       "      <td>0.399996</td>\n",
       "      <td>0.285712</td>\n",
       "      <td>0.0</td>\n",
       "      <td>1.0</td>\n",
       "      <td>4.0</td>\n",
       "      <td>12.0</td>\n",
       "      <td>...</td>\n",
       "      <td>-26.185226</td>\n",
       "      <td>-19.283218</td>\n",
       "      <td>75.602438</td>\n",
       "      <td>24.144027</td>\n",
       "      <td>-91.874398</td>\n",
       "      <td>-178.454113</td>\n",
       "      <td>-91.471482</td>\n",
       "      <td>19.922719</td>\n",
       "      <td>21.266690</td>\n",
       "      <td>49.574858</td>\n",
       "    </tr>\n",
       "    <tr>\n",
       "      <td>3</td>\n",
       "      <td>0.000000</td>\n",
       "      <td>0.000000</td>\n",
       "      <td>0.000000</td>\n",
       "      <td>0.000000</td>\n",
       "      <td>0.000000</td>\n",
       "      <td>0.000000</td>\n",
       "      <td>0.0</td>\n",
       "      <td>0.0</td>\n",
       "      <td>2.0</td>\n",
       "      <td>12.0</td>\n",
       "      <td>...</td>\n",
       "      <td>-17.779019</td>\n",
       "      <td>30.152297</td>\n",
       "      <td>49.300137</td>\n",
       "      <td>27.783795</td>\n",
       "      <td>25.937188</td>\n",
       "      <td>-32.107076</td>\n",
       "      <td>-3.817634</td>\n",
       "      <td>-14.231000</td>\n",
       "      <td>4.772115</td>\n",
       "      <td>7.711628</td>\n",
       "    </tr>\n",
       "    <tr>\n",
       "      <td>4</td>\n",
       "      <td>0.399992</td>\n",
       "      <td>0.199998</td>\n",
       "      <td>0.999950</td>\n",
       "      <td>0.666644</td>\n",
       "      <td>0.571420</td>\n",
       "      <td>0.307690</td>\n",
       "      <td>0.0</td>\n",
       "      <td>1.0</td>\n",
       "      <td>6.0</td>\n",
       "      <td>10.0</td>\n",
       "      <td>...</td>\n",
       "      <td>36.089472</td>\n",
       "      <td>47.193216</td>\n",
       "      <td>-49.969586</td>\n",
       "      <td>44.796028</td>\n",
       "      <td>39.740803</td>\n",
       "      <td>-33.763309</td>\n",
       "      <td>-98.282341</td>\n",
       "      <td>22.118795</td>\n",
       "      <td>68.802072</td>\n",
       "      <td>21.025373</td>\n",
       "    </tr>\n",
       "    <tr>\n",
       "      <td>5</td>\n",
       "      <td>0.666656</td>\n",
       "      <td>0.571420</td>\n",
       "      <td>0.888879</td>\n",
       "      <td>0.799992</td>\n",
       "      <td>0.705878</td>\n",
       "      <td>0.705878</td>\n",
       "      <td>1.0</td>\n",
       "      <td>0.0</td>\n",
       "      <td>0.0</td>\n",
       "      <td>17.0</td>\n",
       "      <td>...</td>\n",
       "      <td>-45.945059</td>\n",
       "      <td>-16.685298</td>\n",
       "      <td>-33.416315</td>\n",
       "      <td>-69.760385</td>\n",
       "      <td>-146.785263</td>\n",
       "      <td>-19.066042</td>\n",
       "      <td>12.203929</td>\n",
       "      <td>199.880774</td>\n",
       "      <td>68.090964</td>\n",
       "      <td>90.085963</td>\n",
       "    </tr>\n",
       "  </tbody>\n",
       "</table>\n",
       "<p>5 rows × 218 columns</p>\n",
       "</div>"
      ],
      "text/plain": [
       "    cwc_min   cwc_max   csc_min   csc_max   ctc_min   ctc_max  last_word_eq  \\\n",
       "1  0.799984  0.399996  0.749981  0.599988  0.699993  0.466664           0.0   \n",
       "2  0.399992  0.333328  0.399992  0.249997  0.399996  0.285712           0.0   \n",
       "3  0.000000  0.000000  0.000000  0.000000  0.000000  0.000000           0.0   \n",
       "4  0.399992  0.199998  0.999950  0.666644  0.571420  0.307690           0.0   \n",
       "5  0.666656  0.571420  0.888879  0.799992  0.705878  0.705878           1.0   \n",
       "\n",
       "   first_word_eq  abs_len_diff  mean_len  ...       86_y       87_y  \\\n",
       "1            1.0           5.0      12.5  ...   6.193171 -65.084229   \n",
       "2            1.0           4.0      12.0  ... -26.185226 -19.283218   \n",
       "3            0.0           2.0      12.0  ... -17.779019  30.152297   \n",
       "4            1.0           6.0      10.0  ...  36.089472  47.193216   \n",
       "5            0.0           0.0      17.0  ... -45.945059 -16.685298   \n",
       "\n",
       "        88_y       89_y        90_y        91_y       92_y        93_y  \\\n",
       "1 -15.654534  -3.475828   26.999802  170.172613 -57.038953  194.269546   \n",
       "2  75.602438  24.144027  -91.874398 -178.454113 -91.471482   19.922719   \n",
       "3  49.300137  27.783795   25.937188  -32.107076  -3.817634  -14.231000   \n",
       "4 -49.969586  44.796028   39.740803  -33.763309 -98.282341   22.118795   \n",
       "5 -33.416315 -69.760385 -146.785263  -19.066042  12.203929  199.880774   \n",
       "\n",
       "         94_y       95_y  \n",
       "1  128.207803  55.490061  \n",
       "2   21.266690  49.574858  \n",
       "3    4.772115   7.711628  \n",
       "4   68.802072  21.025373  \n",
       "5   68.090964  90.085963  \n",
       "\n",
       "[5 rows x 218 columns]"
      ]
     },
     "execution_count": 21,
     "metadata": {},
     "output_type": "execute_result"
    }
   ],
   "source": [
    "sdata.drop(data.index[0],inplace=True)\n",
    "y_true=sdata['is_duplicate']\n",
    "sdata.drop(['Unnamed: 0','id','is_duplicate'],axis=1,inplace=True)\n",
    "sdata.head()"
   ]
  },
  {
   "cell_type": "code",
   "execution_count": 23,
   "metadata": {},
   "outputs": [
    {
     "data": {
      "text/plain": [
       "(99999, 218)"
      ]
     },
     "execution_count": 23,
     "metadata": {},
     "output_type": "execute_result"
    }
   ],
   "source": [
    "sdata.shape"
   ]
  },
  {
   "cell_type": "code",
   "execution_count": 24,
   "metadata": {},
   "outputs": [
    {
     "data": {
      "text/plain": [
       "(99999,)"
      ]
     },
     "execution_count": 24,
     "metadata": {},
     "output_type": "execute_result"
    }
   ],
   "source": [
    "y_true.shape"
   ]
  },
  {
   "cell_type": "code",
   "execution_count": 25,
   "metadata": {},
   "outputs": [],
   "source": [
    "y_true=list(map(int,y_true.values))"
   ]
  },
  {
   "cell_type": "code",
   "execution_count": 26,
   "metadata": {},
   "outputs": [],
   "source": [
    "import seaborn as sns\n",
    "from sklearn.neighbors import KNeighborsClassifier\n",
    "from sklearn.metrics import confusion_matrix\n",
    "from sklearn.metrics.classification import accuracy_score,log_loss\n",
    "from collections import Counter\n",
    "from sklearn.multiclass import OneVsRestClassifier\n",
    "from sklearn.svm import SVC\n",
    "from sklearn.model_selection import StratifiedKFold\n",
    "from sklearn.calibration import CalibratedClassifierCV\n",
    "from sklearn.naive_bayes import MultinomialNB\n",
    "from sklearn.naive_bayes import GaussianNB\n",
    "from sklearn.model_selection import train_test_split\n",
    "from sklearn.model_selection import GridSearchCV\n",
    "from sklearn.metrics import normalized_mutual_info_score\n",
    "from sklearn.ensemble import RandomForestClassifier\n",
    "\n",
    "from sklearn.model_selection import cross_val_score\n",
    "from sklearn.linear_model import SGDClassifier\n",
    "from mlxtend.classifier import StackingClassifier\n",
    "\n",
    "from sklearn import model_selection\n",
    "from sklearn.linear_model import LogisticRegression\n",
    "from sklearn.metrics import precision_recall_curve,auc,roc_curve\n"
   ]
  },
  {
   "cell_type": "code",
   "execution_count": 27,
   "metadata": {},
   "outputs": [],
   "source": [
    "X_train,X_test,y_train,y_test=train_test_split(sdata,y_true,stratify=y_true,test_size=0.3)"
   ]
  },
  {
   "cell_type": "code",
   "execution_count": 28,
   "metadata": {},
   "outputs": [
    {
     "name": "stdout",
     "output_type": "stream",
     "text": [
      "no fo data in train set:  (69999, 218)\n",
      "no fo data in train set:  (30000, 218)\n"
     ]
    }
   ],
   "source": [
    "print(\"no fo data in train set: \",X_train.shape)\n",
    "print(\"no fo data in train set: \",X_test.shape)"
   ]
  },
  {
   "cell_type": "code",
   "execution_count": 31,
   "metadata": {},
   "outputs": [
    {
     "name": "stdout",
     "output_type": "stream",
     "text": [
      "distribution of output variable in train data: \n",
      "Class 0:  0.6274518207402963 Class 1:  0.3725481792597037\n",
      "Distribution of output variable in train data\n",
      "Class 0:  0.6274666666666666 Class 1:  0.3725333333333333\n"
     ]
    }
   ],
   "source": [
    "from collections import Counter\n",
    "print(\"distribution of output variable in train data: \")\n",
    "train_distr=Counter(y_train)\n",
    "train_len=len(y_train)\n",
    "print(\"Class 0: \",int(train_distr[0])/train_len,\"Class 1: \",int(train_distr[1])/train_len)\n",
    "print(\"Distribution of output variable in train data\")\n",
    "test_distr=Counter(y_test)\n",
    "test_len=len(y_test)\n",
    "print(\"Class 0: \",int(test_distr[0])/test_len,\"Class 1: \",int(test_distr[1])/test_len)"
   ]
  },
  {
   "cell_type": "code",
   "execution_count": 46,
   "metadata": {},
   "outputs": [],
   "source": [
    "def plot_confusion_matrix(test_y,predict_y):\n",
    "    C=confusion_matrix(test_y,predict_y)\n",
    "    A =(((C.T)/(C.sum(axis=1))).T)\n",
    "    B =(C/C.sum(axis=0))\n",
    "    plt.figure(figsize=(20,4))\n",
    "    labels=[1,2]\n",
    "    cmap=sns.light_palette('blue')\n",
    "    plt.subplot(1,3,1)\n",
    "    #representing C in heatmap format\n",
    "    sns.heatmap(C,annot=True,cmap=cmap,fmt=\".3f\",xticklabels=labels,yticklabels=labels)\n",
    "    plt.xlabel('Predicted Class')\n",
    "    plt.ylabel('Original Class')\n",
    "    plt.title('Confusion Matrix')\n",
    "    #representing B in heatmap format\n",
    "    plt.subplot(1,3,2)\n",
    "    sns.heatmap(B,annot=True,cmap=cmap,fmt=\".3f\",xticklabels=labels,yticklabels=labels)\n",
    "    plt.xlabel('Predicted Class')\n",
    "    plt.ylabel('Original Class')\n",
    "    plt.title('Precision Matrix')\n",
    "    #representing A in heatmap format\n",
    "    plt.subplot(1,3,3)\n",
    "    sns.heatmap(A,annot=True,cmap=cmap,fmt=\".3f\",xticklabels=labels,yticklabels=labels)\n",
    "    plt.xlabel('Predicted Class')\n",
    "    plt.ylabel('Original Class')\n",
    "    plt.title('Recall Matrix')\n",
    "    \n",
    "    "
   ]
  },
  {
   "cell_type": "markdown",
   "metadata": {},
   "source": [
    "Building a Random Model"
   ]
  },
  {
   "cell_type": "code",
   "execution_count": 47,
   "metadata": {},
   "outputs": [
    {
     "name": "stdout",
     "output_type": "stream",
     "text": [
      "Log loss on test data using Random model 0.8910016887246877\n"
     ]
    },
    {
     "data": {
      "image/png": "[encoded data removed]",
      "text/plain": [
       "<Figure size 1440x288 with 6 Axes>"
      ]
     },
     "metadata": {
      "needs_background": "light"
     },
     "output_type": "display_data"
    }
   ],
   "source": [
    "import numpy as np\n",
    "predicted_y=np.zeros((test_len,2))\n",
    "for i in range(test_len):\n",
    "    rand_probs=np.random.rand(1,2)\n",
    "    predicted_y[i]=((rand_probs/sum(sum(rand_probs)))[0])\n",
    "print('Log loss on test data using Random model',log_loss(y_test,predicted_y,eps=1e-15))\n",
    "predicted_y=np.argmax(predicted_y,axis=1)\n",
    "plot_confusion_matrix(y_test,predicted_y)"
   ]
  },
  {
   "cell_type": "code",
   "execution_count": 51,
   "metadata": {},
   "outputs": [
    {
     "name": "stdout",
     "output_type": "stream",
     "text": [
      "For values of alpha=  1e-05 The log loss is: 0.5130977468976547\n",
      "For values of alpha=  0.0001 The log loss is: 0.4753167303376219\n",
      "For values of alpha=  0.001 The log loss is: 0.4594172511188876\n",
      "For values of alpha=  0.01 The log loss is: 0.46207004941231083\n",
      "For values of alpha=  0.1 The log loss is: 0.4694107159041925\n",
      "For values of alpha=  1 The log loss is: 0.48692243177163375\n",
      "For values of alpha=  10 The log loss is: 0.529842837693246\n"
     ]
    }
   ],
   "source": [
    "alpha=[10**x for x in range(-5,2)]  #hyperparameter for SGD classifier.\n",
    "log_error_array=[]\n",
    "for i in alpha:\n",
    "    clf=SGDClassifier(alpha=i,penalty='l2',loss='log',random_state=42)\n",
    "    clf.fit(X_train,y_train)\n",
    "    sig_clf=CalibratedClassifierCV(clf,method='sigmoid')\n",
    "    sig_clf.fit(X_train,y_train)\n",
    "    predict_y=sig_clf.predict_proba(X_test)\n",
    "    log_error_array.append(log_loss(y_test,predict_y,labels=clf.classes_,eps=1e-15))\n",
    "    print(\"For values of alpha= \",i,\"The log loss is:\",log_loss(y_test,predict_y,labels=clf.classes_,eps=1e-15))"
   ]
  },
  {
   "cell_type": "code",
   "execution_count": 53,
   "metadata": {},
   "outputs": [
    {
     "data": {
      "text/plain": [
       "Text(0, 0.5, 'error measure')"
      ]
     },
     "execution_count": 53,
     "metadata": {},
     "output_type": "execute_result"
    },
    {
     "data": {
      "image/png": "[encoded data removed]",
      "text/plain": [
       "<Figure size 432x288 with 1 Axes>"
      ]
     },
     "metadata": {
      "needs_background": "light"
     },
     "output_type": "display_data"
    }
   ],
   "source": [
    "fig,ax=plt.subplots()\n",
    "ax.plot(alpha,log_error_array,c='g')\n",
    "for i,txt in enumerate(np.round(log_error_array,3)):\n",
    "    ax.annotate((alpha[i],np.round(txt,3)),(alpha[i],log_error_array[i]))\n",
    "plt.grid()\n",
    "plt.title(\"Cross Validation error for each alpha\")\n",
    "plt.xlabel(\"alpha i's \")\n",
    "plt.ylabel('error measure')"
   ]
  },
  {
   "cell_type": "code",
   "execution_count": 54,
   "metadata": {},
   "outputs": [
    {
     "data": {
      "text/plain": [
       "CalibratedClassifierCV(base_estimator=SGDClassifier(alpha=0.001, average=False,\n",
       "                                                    class_weight=None,\n",
       "                                                    early_stopping=False,\n",
       "                                                    epsilon=0.1, eta0=0.0,\n",
       "                                                    fit_intercept=True,\n",
       "                                                    l1_ratio=0.15,\n",
       "                                                    learning_rate='optimal',\n",
       "                                                    loss='log', max_iter=1000,\n",
       "                                                    n_iter_no_change=5,\n",
       "                                                    n_jobs=None, penalty='l2',\n",
       "                                                    power_t=0.5,\n",
       "                                                    random_state=42,\n",
       "                                                    shuffle=True, tol=0.001,\n",
       "                                                    validation_fraction=0.1,\n",
       "                                                    verbose=0,\n",
       "                                                    warm_start=False),\n",
       "                       cv='warn', method='sigmoid')"
      ]
     },
     "execution_count": 54,
     "metadata": {},
     "output_type": "execute_result"
    }
   ],
   "source": [
    "best_alpha=np.argmin(log_error_array)\n",
    "clf=SGDClassifier(alpha=alpha[best_alpha],penalty='l2',loss='log',random_state=42)\n",
    "clf.fit(X_train,y_train)\n",
    "sig_clf=CalibratedClassifierCV(clf,method='sigmoid')\n",
    "sig_clf.fit(X_train,y_train)"
   ]
  },
  {
   "cell_type": "code",
   "execution_count": 57,
   "metadata": {},
   "outputs": [
    {
     "name": "stdout",
     "output_type": "stream",
     "text": [
      "for values of best alpha=  0.001 The train log loss is: 0.4545465521632715\n",
      "for values of best alpha=  0.001 The test log loss is: 0.4594172511188876\n",
      "Total no of data points: 30000\n"
     ]
    },
    {
     "data": {
      "image/png": "[encoded data removed]",
      "text/plain": [
       "<Figure size 1440x288 with 6 Axes>"
      ]
     },
     "metadata": {
      "needs_background": "light"
     },
     "output_type": "display_data"
    }
   ],
   "source": [
    "predict_y=sig_clf.predict_proba(X_train)\n",
    "print(\"for values of best alpha= \",alpha[best_alpha],\"The train log loss is:\", log_loss(y_train,predict_y,labels=clf.classes_,eps=1e-15))\n",
    "predict_y=sig_clf.predict_proba(X_test)\n",
    "print(\"for values of best alpha= \",alpha[best_alpha],\"The test log loss is:\", log_loss(y_test,predict_y,labels=clf.classes_,eps=1e-15))\n",
    "predicted_y=np.argmax(predict_y,axis=1)\n",
    "print('Total no of data points:', len(predicted_y))\n",
    "plot_confusion_matrix(y_test,predicted_y)"
   ]
  },
  {
   "cell_type": "code",
   "execution_count": 60,
   "metadata": {},
   "outputs": [
    {
     "name": "stdout",
     "output_type": "stream",
     "text": [
      "For values of alpha=  1e-05 The log loss is: 0.6602902114362172\n",
      "For values of alpha=  0.0001 The log loss is: 0.6602902114362172\n",
      "For values of alpha=  0.001 The log loss is: 0.6602902114362172\n",
      "For values of alpha=  0.01 The log loss is: 0.4879130595820923\n",
      "For values of alpha=  0.1 The log loss is: 0.6211345536334651\n",
      "For values of alpha=  1 The log loss is: 0.6413179018998286\n",
      "For values of alpha=  10 The log loss is: 0.6340416336454961\n"
     ]
    },
    {
     "data": {
      "image/png": "[encoded data removed]",
      "text/plain": [
       "<Figure size 432x288 with 1 Axes>"
      ]
     },
     "metadata": {
      "needs_background": "light"
     },
     "output_type": "display_data"
    }
   ],
   "source": [
    "alpha=[10**x for x in range(-5,2)]\n",
    "log_error_array=[]\n",
    "for i in alpha:\n",
    "    clf=SGDClassifier(alpha=i,penalty='l1',loss='hinge',random_state=42)\n",
    "    clf.fit(X_train,y_train)\n",
    "    sig_clf=CalibratedClassifierCV(clf,method='sigmoid')\n",
    "    sig_clf.fit(X_train,y_train)\n",
    "    predict_y=sig_clf.predict_proba(X_test)\n",
    "    log_error_array.append(log_loss(y_test,predict_y,labels=clf.classes_,eps=1e-15))\n",
    "    print('For values of alpha= ',i,\"The log loss is:\",log_loss(y_test,predict_y,labels=clf.classes_,eps=1e-15))\n",
    "\n",
    "fig,ax=plt.subplots()\n",
    "ax.plot(alpha,log_error_array,c='g')\n",
    "for i,txt in enumerate(np.round(log_error_array,3)):\n",
    "    ax.annotate((alpha[i],np.round(txt,3)),(alpha[i],log_error_array[i]))"
   ]
  },
  {
   "cell_type": "code",
   "execution_count": 64,
   "metadata": {},
   "outputs": [
    {
     "name": "stdout",
     "output_type": "stream",
     "text": [
      "For values of best alpha=  0.01 The train log loss is: 0.4833124319589684\n",
      "For values of best alpha=  0.01 The test log loss is: 0.4879130595820923\n",
      "Total number of data points : 30000\n"
     ]
    },
    {
     "data": {
      "image/png": "[encoded data removed]",
      "text/plain": [
       "<Figure size 1440x288 with 6 Axes>"
      ]
     },
     "metadata": {
      "needs_background": "light"
     },
     "output_type": "display_data"
    }
   ],
   "source": [
    "#plt.grid()\n",
    "#plt.title(\"Cross Validation Error for each alpha\")\n",
    "#plt.xlabel(\"Alpha i's\")\n",
    "#plt.ylabel(\"Error measure\")\n",
    "#plt.show()\n",
    "best_alpha=np.argmin(log_error_array)\n",
    "clf=SGDClassifier(alpha=alpha[best_alpha],penalty='l1',loss='hinge',random_state=42)\n",
    "clf.fit(X_train,y_train)\n",
    "sig_clf=CalibratedClassifierCV(clf,method='sigmoid')\n",
    "sig_clf.fit(X_train,y_train)\n",
    "\n",
    "predict_y=sig_clf.predict_proba(X_train)\n",
    "print('For values of best alpha= ',alpha[best_alpha],'The train log loss is:',log_loss(y_train,predict_y,labels=clf.classes_,eps=1e-15))\n",
    "predict_y=sig_clf.predict_proba(X_test)\n",
    "print('For values of best alpha= ',alpha[best_alpha],\"The test log loss is:\", log_loss(y_test,predict_y,labels=clf.classes_,eps=1e-15))\n",
    "predicted_y =np.argmax(predict_y,axis=1)\n",
    "print(\"Total number of data points :\", len(predicted_y))\n",
    "plot_confusion_matrix(y_test, predicted_y)\n"
   ]
  },
  {
   "cell_type": "markdown",
   "metadata": {},
   "source": [
    "Xg Boost"
   ]
  },
  {
   "cell_type": "code",
   "execution_count": null,
   "metadata": {},
   "outputs": [],
   "source": []
  },
  {
   "cell_type": "code",
   "execution_count": 66,
   "metadata": {},
   "outputs": [
    {
     "name": "stdout",
     "output_type": "stream",
     "text": [
      "[0]\ttrain-logloss:0.684798\tvalid-logloss:0.684964\n",
      "Multiple eval metrics have been passed: 'valid-logloss' will be used for early stopping.\n",
      "\n",
      "Will train until valid-logloss hasn't improved in 20 rounds.\n",
      "[10]\ttrain-logloss:0.615963\tvalid-logloss:0.617669\n",
      "[20]\ttrain-logloss:0.564703\tvalid-logloss:0.567479\n",
      "[30]\ttrain-logloss:0.526168\tvalid-logloss:0.529871\n",
      "[40]\ttrain-logloss:0.496313\tvalid-logloss:0.500826\n",
      "[50]\ttrain-logloss:0.473195\tvalid-logloss:0.478309\n",
      "[60]\ttrain-logloss:0.454775\tvalid-logloss:0.460485\n",
      "[70]\ttrain-logloss:0.439914\tvalid-logloss:0.446128\n",
      "[80]\ttrain-logloss:0.428061\tvalid-logloss:0.434707\n",
      "[90]\ttrain-logloss:0.418437\tvalid-logloss:0.425462\n",
      "[100]\ttrain-logloss:0.410418\tvalid-logloss:0.417825\n",
      "[110]\ttrain-logloss:0.4036\tvalid-logloss:0.411312\n",
      "[120]\ttrain-logloss:0.397829\tvalid-logloss:0.405845\n",
      "[130]\ttrain-logloss:0.393013\tvalid-logloss:0.401336\n",
      "[140]\ttrain-logloss:0.388881\tvalid-logloss:0.39749\n",
      "[150]\ttrain-logloss:0.385142\tvalid-logloss:0.394122\n",
      "[160]\ttrain-logloss:0.382231\tvalid-logloss:0.391458\n",
      "[170]\ttrain-logloss:0.379225\tvalid-logloss:0.388735\n",
      "[180]\ttrain-logloss:0.376648\tvalid-logloss:0.386451\n",
      "[190]\ttrain-logloss:0.37448\tvalid-logloss:0.384531\n",
      "[200]\ttrain-logloss:0.372442\tvalid-logloss:0.382721\n",
      "[210]\ttrain-logloss:0.370618\tvalid-logloss:0.381106\n",
      "[220]\ttrain-logloss:0.368931\tvalid-logloss:0.379657\n",
      "[230]\ttrain-logloss:0.367325\tvalid-logloss:0.378292\n",
      "[240]\ttrain-logloss:0.365755\tvalid-logloss:0.376948\n",
      "[250]\ttrain-logloss:0.36412\tvalid-logloss:0.375574\n",
      "[260]\ttrain-logloss:0.362584\tvalid-logloss:0.374346\n",
      "[270]\ttrain-logloss:0.361158\tvalid-logloss:0.373179\n",
      "[280]\ttrain-logloss:0.359639\tvalid-logloss:0.371925\n",
      "[290]\ttrain-logloss:0.358404\tvalid-logloss:0.370991\n",
      "[300]\ttrain-logloss:0.357178\tvalid-logloss:0.370078\n",
      "[310]\ttrain-logloss:0.35595\tvalid-logloss:0.369157\n",
      "[320]\ttrain-logloss:0.354602\tvalid-logloss:0.368061\n",
      "[330]\ttrain-logloss:0.353504\tvalid-logloss:0.367195\n",
      "[340]\ttrain-logloss:0.352394\tvalid-logloss:0.366375\n",
      "[350]\ttrain-logloss:0.351371\tvalid-logloss:0.365596\n",
      "[360]\ttrain-logloss:0.350396\tvalid-logloss:0.364864\n",
      "[370]\ttrain-logloss:0.349357\tvalid-logloss:0.364103\n",
      "[380]\ttrain-logloss:0.348452\tvalid-logloss:0.363465\n",
      "[390]\ttrain-logloss:0.347439\tvalid-logloss:0.362736\n",
      "[399]\ttrain-logloss:0.346673\tvalid-logloss:0.362229\n",
      "The test log loss is: 0.362229109626731\n"
     ]
    }
   ],
   "source": [
    "import xgboost as xgb\n",
    "params={}\n",
    "params['objective']='binary:logistic'\n",
    "params['eval_metric']='logloss'\n",
    "params['eta']=0.02\n",
    "params['max_depth']=4\n",
    "\n",
    "d_train=xgb.DMatrix(X_train,label=y_train)\n",
    "d_test=xgb.DMatrix(X_test,label=y_test)\n",
    "watchlist=[(d_train,'train'),(d_test,'valid')]\n",
    "bst=xgb.train(params,d_train,400,watchlist,early_stopping_rounds=20,verbose_eval=10)\n",
    "\n",
    "xgdmat=xgb.DMatrix(X_train,y_train)\n",
    "predict_y=bst.predict(d_test)\n",
    "print(\"The test log loss is:\",log_loss(y_test,predict_y,labels=clf.classes_,eps=1e-15))"
   ]
  },
  {
   "cell_type": "code",
   "execution_count": 67,
   "metadata": {},
   "outputs": [
    {
     "name": "stdout",
     "output_type": "stream",
     "text": [
      "Total number of data points : 30000\n"
     ]
    },
    {
     "data": {
      "image/png": "[encoded data removed]",
      "text/plain": [
       "<Figure size 1440x288 with 6 Axes>"
      ]
     },
     "metadata": {
      "needs_background": "light"
     },
     "output_type": "display_data"
    }
   ],
   "source": [
    "predicted_y =np.array(predict_y>0.5,dtype=int)\n",
    "print(\"Total number of data points :\", len(predicted_y))\n",
    "plot_confusion_matrix(y_test, predicted_y)"
   ]
  },
  {
   "cell_type": "code",
   "execution_count": null,
   "metadata": {},
   "outputs": [],
   "source": []
  }
 ],
 "metadata": {
  "kernelspec": {
   "display_name": "Python 3",
   "language": "python",
   "name": "python3"
  },
  "language_info": {
   "codemirror_mode": {
    "name": "ipython",
    "version": 3
   },
   "file_extension": ".py",
   "mimetype": "text/x-python",
   "name": "python",
   "nbconvert_exporter": "python",
   "pygments_lexer": "ipython3",
   "version": "3.7.3"
  }
 },
 "nbformat": 4,
 "nbformat_minor": 2
}
